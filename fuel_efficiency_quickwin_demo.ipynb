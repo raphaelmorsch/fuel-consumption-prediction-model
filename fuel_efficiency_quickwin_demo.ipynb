{
 "cells": [
  {
   "cell_type": "markdown",
   "id": "58518d63",
   "metadata": {},
   "source": [
    "# RHEL AI / OpenShift AI — Quick Win Demo\n",
    "\n",
    "## Fuel Efficiency Prediction for Car Carrier (Cegonha) Trucks\n",
    "This notebook trains a simple regression model to predict **fuel consumption (L/100km)** based on historical trip telemetry.\n",
    "Use it in **OpenShift AI** (Jupyter) and then export the model for serving via **KServe**.\n"
   ]
  },
  {
   "cell_type": "code",
   "execution_count": null,
   "id": "fb1a8d05",
   "metadata": {},
   "outputs": [],
   "source": [
    "\n",
    "import pandas as pd\n",
    "import numpy as np\n",
    "from sklearn.model_selection import train_test_split\n",
    "from sklearn.ensemble import RandomForestRegressor\n",
    "from sklearn.metrics import mean_absolute_error, r2_score\n",
    "import joblib\n",
    "import matplotlib.pyplot as plt\n",
    "\n",
    "# Load data\n",
    "df = pd.read_csv(\"sample_trips.csv\")\n",
    "df.head()\n"
   ]
  },
  {
   "cell_type": "markdown",
   "id": "fbc5f20d",
   "metadata": {},
   "source": [
    "### Feature Engineering & Target"
   ]
  },
  {
   "cell_type": "code",
   "execution_count": null,
   "id": "d6ed2544",
   "metadata": {},
   "outputs": [],
   "source": [
    "\n",
    "# Target: fuel consumption per 100km\n",
    "df = df.copy()\n",
    "df['fuel_l_per_100km'] = (df['fuel_liters'] / df['route_distance_km']) * 100\n",
    "\n",
    "features = [\n",
    "    'num_cars','load_weight_kg','route_distance_km','avg_speed_kmh',\n",
    "    'elevation_gain_m','ambient_temp_c','rain_mm','wind_kmh'\n",
    "]\n",
    "target = 'fuel_l_per_100km'\n",
    "\n",
    "X = df[features]\n",
    "y = df[target]\n",
    "\n",
    "X_train, X_test, y_train, y_test = train_test_split(X, y, test_size=0.2, random_state=7)\n",
    "\n",
    "rf = RandomForestRegressor(n_estimators=300, random_state=7, n_jobs=-1)\n",
    "rf.fit(X_train, y_train)\n",
    "\n",
    "preds = rf.predict(X_test)\n",
    "mae = mean_absolute_error(y_test, preds)\n",
    "r2 = r2_score(y_test, preds)\n",
    "\n",
    "mae, r2\n"
   ]
  },
  {
   "cell_type": "markdown",
   "id": "8882e2ba",
   "metadata": {},
   "source": [
    "### Feature Importance"
   ]
  },
  {
   "cell_type": "code",
   "execution_count": null,
   "id": "8124539a",
   "metadata": {},
   "outputs": [],
   "source": [
    "\n",
    "importances = rf.feature_importances_\n",
    "fi = pd.Series(importances, index=features).sort_values(ascending=False)\n",
    "fi\n"
   ]
  },
  {
   "cell_type": "code",
   "execution_count": null,
   "id": "49c82b39",
   "metadata": {},
   "outputs": [],
   "source": [
    "\n",
    "# Plot importance\n",
    "plt.figure(figsize=(6,4))\n",
    "fi.sort_values().plot(kind='barh')\n",
    "plt.title(\"Feature Importance (RandomForest)\")\n",
    "plt.xlabel(\"Importance\")\n",
    "plt.ylabel(\"Feature\")\n",
    "plt.tight_layout()\n",
    "plt.show()\n"
   ]
  },
  {
   "cell_type": "markdown",
   "id": "4a662c67",
   "metadata": {},
   "source": [
    "### Save Model"
   ]
  },
  {
   "cell_type": "code",
   "execution_count": null,
   "id": "5529d050",
   "metadata": {},
   "outputs": [],
   "source": [
    "\n",
    "# save model artifact\n",
    "joblib.dump(rf, \"model_random_forest.joblib\")\n",
    "print(\"Saved model to model_random_forest.joblib\")\n"
   ]
  },
  {
   "cell_type": "markdown",
   "id": "62936c2d",
   "metadata": {},
   "source": [
    "### Try a What-if Scenario (Planned Trip)"
   ]
  },
  {
   "cell_type": "code",
   "execution_count": null,
   "id": "91d5ee0c",
   "metadata": {},
   "outputs": [],
   "source": [
    "\n",
    "planned_trip = pd.DataFrame([{\n",
    "    'num_cars': 7,\n",
    "    'load_weight_kg': 7 * 1450,  # 7 cars ~1450kg each\n",
    "    'route_distance_km': 680,\n",
    "    'avg_speed_kmh': 78,\n",
    "    'elevation_gain_m': 550,\n",
    "    'ambient_temp_c': 26,\n",
    "    'rain_mm': 3.0,\n",
    "    'wind_kmh': 12\n",
    "}])\n",
    "pred = rf.predict(planned_trip)[0]\n",
    "print(f\"Predicted consumption: {pred:.2f} L/100km, estimated total fuel: {pred * planned_trip['route_distance_km'][0] / 100:.1f} L\")\n"
   ]
  }
 ],
 "metadata": {},
 "nbformat": 4,
 "nbformat_minor": 5
}
