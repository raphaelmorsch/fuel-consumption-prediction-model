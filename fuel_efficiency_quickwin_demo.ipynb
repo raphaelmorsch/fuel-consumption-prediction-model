{
 "cells": [
  {
   "cell_type": "markdown",
   "id": "58518d63",
   "metadata": {},
   "source": [
    "# RHEL AI / OpenShift AI — Quick Win Demo\n",
    "\n",
    "## Fuel Efficiency Prediction for Car Carrier (Cegonha) Trucks\n",
    "This notebook trains a simple regression model to predict **fuel consumption (L/100km)** based on historical trip telemetry.\n",
    "Use it in **OpenShift AI** (Jupyter) and then export the model for serving via **KServe**.\n"
   ]
  },
  {
   "cell_type": "code",
   "execution_count": null,
   "id": "fb1a8d05",
   "metadata": {},
   "outputs": [
    {
     "data": {
      "text/html": [
       "<div>\n",
       "<style scoped>\n",
       "    .dataframe tbody tr th:only-of-type {\n",
       "        vertical-align: middle;\n",
       "    }\n",
       "\n",
       "    .dataframe tbody tr th {\n",
       "        vertical-align: top;\n",
       "    }\n",
       "\n",
       "    .dataframe thead th {\n",
       "        text-align: right;\n",
       "    }\n",
       "</style>\n",
       "<table border=\"1\" class=\"dataframe\">\n",
       "  <thead>\n",
       "    <tr style=\"text-align: right;\">\n",
       "      <th></th>\n",
       "      <th>trip_id</th>\n",
       "      <th>date</th>\n",
       "      <th>truck_id</th>\n",
       "      <th>num_cars</th>\n",
       "      <th>load_weight_kg</th>\n",
       "      <th>route_distance_km</th>\n",
       "      <th>avg_speed_kmh</th>\n",
       "      <th>elevation_gain_m</th>\n",
       "      <th>ambient_temp_c</th>\n",
       "      <th>rain_mm</th>\n",
       "      <th>wind_kmh</th>\n",
       "      <th>fuel_liters</th>\n",
       "    </tr>\n",
       "  </thead>\n",
       "  <tbody>\n",
       "    <tr>\n",
       "      <th>0</th>\n",
       "      <td>1</td>\n",
       "      <td>2024-04-12</td>\n",
       "      <td>T029</td>\n",
       "      <td>7</td>\n",
       "      <td>9187</td>\n",
       "      <td>991.2</td>\n",
       "      <td>70.9</td>\n",
       "      <td>117</td>\n",
       "      <td>16.9</td>\n",
       "      <td>4.2</td>\n",
       "      <td>9.5</td>\n",
       "      <td>265.69</td>\n",
       "    </tr>\n",
       "    <tr>\n",
       "      <th>1</th>\n",
       "      <td>2</td>\n",
       "      <td>2024-06-06</td>\n",
       "      <td>T038</td>\n",
       "      <td>8</td>\n",
       "      <td>12482</td>\n",
       "      <td>652.8</td>\n",
       "      <td>69.0</td>\n",
       "      <td>309</td>\n",
       "      <td>12.2</td>\n",
       "      <td>16.4</td>\n",
       "      <td>20.9</td>\n",
       "      <td>189.47</td>\n",
       "    </tr>\n",
       "    <tr>\n",
       "      <th>2</th>\n",
       "      <td>3</td>\n",
       "      <td>2024-05-14</td>\n",
       "      <td>T021</td>\n",
       "      <td>5</td>\n",
       "      <td>6989</td>\n",
       "      <td>666.2</td>\n",
       "      <td>70.3</td>\n",
       "      <td>341</td>\n",
       "      <td>18.0</td>\n",
       "      <td>4.6</td>\n",
       "      <td>7.3</td>\n",
       "      <td>190.16</td>\n",
       "    </tr>\n",
       "    <tr>\n",
       "      <th>3</th>\n",
       "      <td>4</td>\n",
       "      <td>2024-02-04</td>\n",
       "      <td>T014</td>\n",
       "      <td>3</td>\n",
       "      <td>4017</td>\n",
       "      <td>855.3</td>\n",
       "      <td>75.9</td>\n",
       "      <td>1</td>\n",
       "      <td>6.6</td>\n",
       "      <td>10.5</td>\n",
       "      <td>5.7</td>\n",
       "      <td>236.25</td>\n",
       "    </tr>\n",
       "    <tr>\n",
       "      <th>4</th>\n",
       "      <td>5</td>\n",
       "      <td>2024-07-24</td>\n",
       "      <td>T023</td>\n",
       "      <td>7</td>\n",
       "      <td>9859</td>\n",
       "      <td>665.0</td>\n",
       "      <td>100.0</td>\n",
       "      <td>617</td>\n",
       "      <td>24.8</td>\n",
       "      <td>1.3</td>\n",
       "      <td>14.5</td>\n",
       "      <td>177.38</td>\n",
       "    </tr>\n",
       "  </tbody>\n",
       "</table>\n",
       "</div>"
      ],
      "text/plain": [
       "   trip_id        date truck_id  num_cars  load_weight_kg  route_distance_km  \\\n",
       "0        1  2024-04-12     T029         7            9187              991.2   \n",
       "1        2  2024-06-06     T038         8           12482              652.8   \n",
       "2        3  2024-05-14     T021         5            6989              666.2   \n",
       "3        4  2024-02-04     T014         3            4017              855.3   \n",
       "4        5  2024-07-24     T023         7            9859              665.0   \n",
       "\n",
       "   avg_speed_kmh  elevation_gain_m  ambient_temp_c  rain_mm  wind_kmh  \\\n",
       "0           70.9               117            16.9      4.2       9.5   \n",
       "1           69.0               309            12.2     16.4      20.9   \n",
       "2           70.3               341            18.0      4.6       7.3   \n",
       "3           75.9                 1             6.6     10.5       5.7   \n",
       "4          100.0               617            24.8      1.3      14.5   \n",
       "\n",
       "   fuel_liters  \n",
       "0       265.69  \n",
       "1       189.47  \n",
       "2       190.16  \n",
       "3       236.25  \n",
       "4       177.38  "
      ]
     },
     "execution_count": 1,
     "metadata": {},
     "output_type": "execute_result"
    }
   ],
   "source": [
    "\n",
    "import pandas as pd\n",
    "import numpy as np\n",
    "from sklearn.model_selection import train_test_split\n",
    "from sklearn.ensemble import RandomForestRegressor\n",
    "from sklearn.metrics import mean_absolute_error, r2_score\n",
    "from skl2onnx import convert_sklearn\n",
    "from skl2onnx.common.data_types import FloatTensorType\n",
    "import joblib\n",
    "import matplotlib.pyplot as plt\n",
    "\n",
    "# Load data\n",
    "df = pd.read_csv(\"sample_trips.csv\")\n",
    "df.head()\n"
   ]
  },
  {
   "cell_type": "markdown",
   "id": "fbc5f20d",
   "metadata": {},
   "source": [
    "### Feature Engineering & Target"
   ]
  },
  {
   "cell_type": "code",
   "execution_count": 2,
   "id": "d6ed2544",
   "metadata": {},
   "outputs": [
    {
     "data": {
      "text/plain": [
       "(1.433846312827694, 0.04756744418727943)"
      ]
     },
     "execution_count": 2,
     "metadata": {},
     "output_type": "execute_result"
    }
   ],
   "source": [
    "\n",
    "# Target: fuel consumption per 100km\n",
    "df = df.copy()\n",
    "df['fuel_l_per_100km'] = (df['fuel_liters'] / df['route_distance_km']) * 100\n",
    "\n",
    "features = [\n",
    "    'num_cars','load_weight_kg','route_distance_km','avg_speed_kmh',\n",
    "    'elevation_gain_m','ambient_temp_c','rain_mm','wind_kmh'\n",
    "]\n",
    "target = 'fuel_l_per_100km'\n",
    "\n",
    "X = df[features]\n",
    "y = df[target]\n",
    "\n",
    "X_train, X_test, y_train, y_test = train_test_split(X, y, test_size=0.2, random_state=7)\n",
    "\n",
    "rf = RandomForestRegressor(n_estimators=300, random_state=7, n_jobs=-1)\n",
    "rf.fit(X_train, y_train)\n",
    "\n",
    "preds = rf.predict(X_test)\n",
    "mae = mean_absolute_error(y_test, preds)\n",
    "r2 = r2_score(y_test, preds)\n",
    "\n",
    "mae, r2\n"
   ]
  },
  {
   "cell_type": "markdown",
   "id": "8882e2ba",
   "metadata": {},
   "source": [
    "### Feature Importance"
   ]
  },
  {
   "cell_type": "code",
   "execution_count": 3,
   "id": "8124539a",
   "metadata": {},
   "outputs": [
    {
     "data": {
      "text/plain": [
       "ambient_temp_c       0.157628\n",
       "route_distance_km    0.146264\n",
       "elevation_gain_m     0.143586\n",
       "avg_speed_kmh        0.141455\n",
       "load_weight_kg       0.137948\n",
       "rain_mm              0.124110\n",
       "wind_kmh             0.117785\n",
       "num_cars             0.031224\n",
       "dtype: float64"
      ]
     },
     "execution_count": 3,
     "metadata": {},
     "output_type": "execute_result"
    }
   ],
   "source": [
    "\n",
    "importances = rf.feature_importances_\n",
    "fi = pd.Series(importances, index=features).sort_values(ascending=False)\n",
    "fi\n"
   ]
  },
  {
   "cell_type": "code",
   "execution_count": 4,
   "id": "49c82b39",
   "metadata": {},
   "outputs": [
    {
     "data": {
      "image/png": "[encoded data removed]",
      "text/plain": [
       "<Figure size 600x400 with 1 Axes>"
      ]
     },
     "metadata": {},
     "output_type": "display_data"
    }
   ],
   "source": [
    "\n",
    "# Plot importance\n",
    "plt.figure(figsize=(6,4))\n",
    "fi.sort_values().plot(kind='barh')\n",
    "plt.title(\"Feature Importance (RandomForest)\")\n",
    "plt.xlabel(\"Importance\")\n",
    "plt.ylabel(\"Feature\")\n",
    "plt.tight_layout()\n",
    "plt.show()\n"
   ]
  },
  {
   "cell_type": "markdown",
   "id": "4a662c67",
   "metadata": {},
   "source": [
    "### Save Model"
   ]
  },
  {
   "cell_type": "code",
   "execution_count": null,
   "id": "5529d050",
   "metadata": {},
   "outputs": [
    {
     "name": "stdout",
     "output_type": "stream",
     "text": [
      "Saved model to model_random_forest.joblib\n"
     ]
    }
   ],
   "source": [
    "\n",
    "# save model artifact\n",
    "joblib.dump(rf, \"model_random_forest.joblib\")\n",
    "print(\"Saved model to model_random_forest.joblib\")\n",
    "\n",
    "# save ONNX model\n",
    "initial_type = [('float_input', FloatTensorType([None, len(features)]))]\n",
    "onnx_model = convert_sklearn(rf, initial_types=initial_type)\n",
    "with open(\"model_random_forest.onnx\", \"wb\") as f:\n",
    "    f.write(onnx_model.SerializeToString())\n",
    "print(\"Saved ONNX model to model_random_forest.onnx\")\n"
   ]
  },
  {
   "cell_type": "markdown",
   "id": "62936c2d",
   "metadata": {},
   "source": [
    "### Try a What-if Scenario (Planned Trip)"
   ]
  },
  {
   "cell_type": "code",
   "execution_count": 6,
   "id": "91d5ee0c",
   "metadata": {},
   "outputs": [
    {
     "name": "stdout",
     "output_type": "stream",
     "text": [
      "Predicted consumption: 27.94 L/100km, estimated total fuel: 190.0 L\n"
     ]
    }
   ],
   "source": [
    "\n",
    "planned_trip = pd.DataFrame([{\n",
    "    'num_cars': 7,\n",
    "    'load_weight_kg': 7 * 1450,  # 7 cars ~1450kg each\n",
    "    'route_distance_km': 680,\n",
    "    'avg_speed_kmh': 78,\n",
    "    'elevation_gain_m': 550,\n",
    "    'ambient_temp_c': 26,\n",
    "    'rain_mm': 3.0,\n",
    "    'wind_kmh': 12\n",
    "}])\n",
    "pred = rf.predict(planned_trip)[0]\n",
    "print(f\"Predicted consumption: {pred:.2f} L/100km, estimated total fuel: {pred * planned_trip['route_distance_km'][0] / 100:.1f} L\")\n"
   ]
  },
  {
   "cell_type": "code",
   "execution_count": null,
   "id": "2ee2a0b8-e6bf-4a46-8f57-7ecc56d9bfb5",
   "metadata": {},
   "outputs": [],
   "source": []
  }
 ],
 "metadata": {
  "kernelspec": {
   "display_name": "Python 3.11",
   "language": "python",
   "name": "python3"
  },
  "language_info": {
   "codemirror_mode": {
    "name": "ipython",
    "version": 3
   },
   "file_extension": ".py",
   "mimetype": "text/x-python",
   "name": "python",
   "nbconvert_exporter": "python",
   "pygments_lexer": "ipython3",
   "version": "3.11.9"
  }
 },
 "nbformat": 4,
 "nbformat_minor": 5
}
