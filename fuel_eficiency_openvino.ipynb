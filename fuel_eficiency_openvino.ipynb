{
 "cells": [
  {
   "cell_type": "markdown",
   "id": "7da82abb-10d4-450a-99aa-59f87866f54d",
   "metadata": {},
   "source": [
    "#### ==========================\n",
    "#### Fuel Consumption Prediction (OpenVINO-compatible)\n",
    "#### =========================="
   ]
  },
  {
   "cell_type": "code",
   "execution_count": 9,
   "id": "d6d36214-cd76-4ea9-abb9-e5a3f872e786",
   "metadata": {},
   "outputs": [],
   "source": [
    "import pandas as pd\n",
    "import numpy as np\n",
    "import torch\n",
    "import torch.nn as nn\n",
    "import torch.optim as optim\n",
    "from sklearn.model_selection import train_test_split\n",
    "import matplotlib.pyplot as plt"
   ]
  },
  {
   "cell_type": "markdown",
   "id": "878e40c8-e7ca-443f-85e9-5db744f34853",
   "metadata": {},
   "source": [
    "##### --------------------------\n",
    "##### 1. Load data\n",
    "##### --------------------------"
   ]
  },
  {
   "cell_type": "code",
   "execution_count": 10,
   "id": "7d97ad11-14aa-4d6b-89c4-7bf0f43a840c",
   "metadata": {},
   "outputs": [],
   "source": [
    "df = pd.read_csv(\"sample_trips.csv\")\n",
    "\n",
    "# Target: fuel consumption per 100km\n",
    "df['fuel_l_per_100km'] = (df['fuel_liters'] / df['route_distance_km']) * 100\n",
    "\n",
    "features = [\n",
    "    'num_cars','load_weight_kg','route_distance_km','avg_speed_kmh',\n",
    "    'elevation_gain_m','ambient_temp_c','rain_mm','wind_kmh'\n",
    "]\n",
    "target = 'fuel_l_per_100km'\n",
    "\n",
    "X = df[features].values.astype(np.float32)\n",
    "y = df[target].values.astype(np.float32).reshape(-1,1)\n",
    "\n",
    "X_train, X_test, y_train, y_test = train_test_split(X, y, test_size=0.2, random_state=7)\n",
    "\n",
    "# Convert to PyTorch tensors\n",
    "X_train_t = torch.from_numpy(X_train)\n",
    "y_train_t = torch.from_numpy(y_train)\n",
    "X_test_t = torch.from_numpy(X_test)\n",
    "y_test_t = torch.from_numpy(y_test)"
   ]
  },
  {
   "cell_type": "markdown",
   "id": "d1dd2eb5-5cb2-44dc-924e-5087778a4dc7",
   "metadata": {},
   "source": [
    "##### --------------------------\n",
    "##### 2. Define a small MLP\n",
    "##### --------------------------"
   ]
  },
  {
   "cell_type": "code",
   "execution_count": 11,
   "id": "2e6301a1-7768-44a9-b3bb-a6ad7d989ec1",
   "metadata": {},
   "outputs": [],
   "source": [
    "class FuelMLP(nn.Module):\n",
    "    def __init__(self, input_dim):\n",
    "        super(FuelMLP, self).__init__()\n",
    "        self.layers = nn.Sequential(\n",
    "            nn.Linear(input_dim, 16),\n",
    "            nn.ReLU(),\n",
    "            nn.Linear(16, 8),\n",
    "            nn.ReLU(),\n",
    "            nn.Linear(8, 1)\n",
    "        )\n",
    "\n",
    "    def forward(self, x):\n",
    "        return self.layers(x)\n",
    "\n",
    "model = FuelMLP(len(features))"
   ]
  },
  {
   "cell_type": "markdown",
   "id": "920178b6-01c1-4df5-99bd-f50e13699ce0",
   "metadata": {},
   "source": [
    "##### --------------------------\n",
    "##### 3. Train the model\n",
    "##### --------------------------"
   ]
  },
  {
   "cell_type": "code",
   "execution_count": 12,
   "id": "49830307-d611-4a55-b995-b5addb0ad541",
   "metadata": {},
   "outputs": [
    {
     "name": "stdout",
     "output_type": "stream",
     "text": [
      "Training finished!\n"
     ]
    }
   ],
   "source": [
    "criterion = nn.MSELoss()\n",
    "optimizer = optim.Adam(model.parameters(), lr=0.01)\n",
    "\n",
    "for epoch in range(200):\n",
    "    optimizer.zero_grad()\n",
    "    outputs = model(X_train_t)\n",
    "    loss = criterion(outputs, y_train_t)\n",
    "    loss.backward()\n",
    "    optimizer.step()\n",
    "\n",
    "print(\"Training finished!\")"
   ]
  },
  {
   "cell_type": "markdown",
   "id": "cf201cbd-300c-42cd-8ec0-a639ab8ba057",
   "metadata": {},
   "source": [
    "##### --------------------------\n",
    "##### 4. Evaluate\n",
    "##### --------------------------"
   ]
  },
  {
   "cell_type": "code",
   "execution_count": 13,
   "id": "a6425227-0c8a-4f4e-acf0-64c9990fcc0f",
   "metadata": {},
   "outputs": [
    {
     "name": "stdout",
     "output_type": "stream",
     "text": [
      "MAE: 3.95, R2: -5.74\n"
     ]
    }
   ],
   "source": [
    "with torch.no_grad():\n",
    "    preds = model(X_test_t).numpy()\n",
    "\n",
    "mae = np.mean(np.abs(preds - y_test))\n",
    "r2 = 1 - np.sum((preds - y_test)**2)/np.sum((y_test - np.mean(y_test))**2)\n",
    "print(f\"MAE: {mae:.2f}, R2: {r2:.2f}\")"
   ]
  },
  {
   "cell_type": "markdown",
   "id": "e8a70ce5-13a2-4d59-a6aa-10342a56cb25",
   "metadata": {},
   "source": [
    "##### --------------------------\n",
    "##### 5. Feature importance (via simple permutation)\n",
    "##### --------------------------"
   ]
  },
  {
   "cell_type": "code",
   "execution_count": 14,
   "id": "600b7f82-fdde-4b6e-8874-5b835c5c5b0b",
   "metadata": {},
   "outputs": [
    {
     "data": {
      "image/png": "[encoded data removed]",
      "text/plain": [
       "<Figure size 600x400 with 1 Axes>"
      ]
     },
     "metadata": {},
     "output_type": "display_data"
    }
   ],
   "source": [
    "perm_importance = []\n",
    "baseline = np.mean(np.abs(model(X_test_t).detach().numpy() - y_test))\n",
    "for i in range(len(features)):\n",
    "    X_perm = X_test.copy()\n",
    "    np.random.shuffle(X_perm[:,i])\n",
    "    perm_pred = model(torch.from_numpy(X_perm)).detach().numpy()\n",
    "    perm_importance.append(np.mean(np.abs(perm_pred - y_test)) - baseline)\n",
    "\n",
    "fi = pd.Series(perm_importance, index=features).sort_values(ascending=False)\n",
    "\n",
    "plt.figure(figsize=(6,4))\n",
    "fi.sort_values().plot(kind='barh')\n",
    "plt.title(\"Feature Importance (MLP)\")\n",
    "plt.xlabel(\"Importance (MAE increase)\")\n",
    "plt.tight_layout()\n",
    "plt.show()"
   ]
  },
  {
   "cell_type": "markdown",
   "id": "7dab8716-00c3-4bfd-9644-72751d49e30c",
   "metadata": {},
   "source": [
    "##### --------------------------\n",
    "##### 6. Export to ONNX (OpenVINO compatible)\n",
    "##### --------------------------"
   ]
  },
  {
   "cell_type": "code",
   "execution_count": 15,
   "id": "f1f01df8-04bb-4f2e-a425-430284b26585",
   "metadata": {},
   "outputs": [
    {
     "name": "stdout",
     "output_type": "stream",
     "text": [
      "Saved OpenVINO-compatible ONNX model to model/1/model.onnx\n"
     ]
    }
   ],
   "source": [
    "dummy_input = torch.from_numpy(X_test[:1])\n",
    "torch.onnx.export(\n",
    "    model,\n",
    "    dummy_input,\n",
    "    \"model/1/model.onnx\",\n",
    "    input_names=[\"input\"],\n",
    "    output_names=[\"output\"],\n",
    "    dynamic_axes={\"input\": {0: \"batch_size\"}, \"output\": {0: \"batch_size\"}},\n",
    "    opset_version=11\n",
    ")\n",
    "print(\"Saved OpenVINO-compatible ONNX model to model/1/model.onnx\")"
   ]
  },
  {
   "cell_type": "markdown",
   "id": "586e8bb8-c56a-4a13-93d4-603d8285e94a",
   "metadata": {},
   "source": [
    "##### --------------------------\n",
    "##### 7. Predict a planned trip\n",
    "##### --------------------------"
   ]
  },
  {
   "cell_type": "code",
   "execution_count": 16,
   "id": "4be2df5e-f44f-4225-82d2-d4a795e066ef",
   "metadata": {},
   "outputs": [
    {
     "name": "stdout",
     "output_type": "stream",
     "text": [
      "Predicted consumption: 32.12 L/100km, estimated total fuel: 218.4 L\n"
     ]
    }
   ],
   "source": [
    "planned_trip = pd.DataFrame([{\n",
    "    'num_cars': 7,\n",
    "    'load_weight_kg': 7 * 1450,  # 7 cars ~1450kg each\n",
    "    'route_distance_km': 680,\n",
    "    'avg_speed_kmh': 78,\n",
    "    'elevation_gain_m': 550,\n",
    "    'ambient_temp_c': 26,\n",
    "    'rain_mm': 3.0,\n",
    "    'wind_kmh': 12\n",
    "}])\n",
    "\n",
    "planned_input = torch.from_numpy(planned_trip[features].values.astype(np.float32))\n",
    "pred = model(planned_input).detach().numpy()[0,0]\n",
    "\n",
    "print(f\"Predicted consumption: {pred:.2f} L/100km, estimated total fuel: {pred * planned_trip['route_distance_km'][0] / 100:.1f} L\")"
   ]
  }
 ],
 "metadata": {
  "kernelspec": {
   "display_name": "Python 3.11",
   "language": "python",
   "name": "python3"
  },
  "language_info": {
   "codemirror_mode": {
    "name": "ipython",
    "version": 3
   },
   "file_extension": ".py",
   "mimetype": "text/x-python",
   "name": "python",
   "nbconvert_exporter": "python",
   "pygments_lexer": "ipython3",
   "version": "3.11.9"
  }
 },
 "nbformat": 4,
 "nbformat_minor": 5
}
